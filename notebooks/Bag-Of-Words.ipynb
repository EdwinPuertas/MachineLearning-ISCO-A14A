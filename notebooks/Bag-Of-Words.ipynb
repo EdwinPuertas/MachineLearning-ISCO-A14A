{
 "cells": [
  {
   "cell_type": "markdown",
   "id": "719ab87a",
   "metadata": {},
   "source": [
    "# Bag-of-Words Model"
   ]
  },
  {
   "cell_type": "code",
   "execution_count": 12,
   "id": "8c93627a",
   "metadata": {},
   "outputs": [],
   "source": [
    "from sklearn.feature_extraction.text import CountVectorizer\n",
    "from nltk.tokenize import TweetTokenizer\n",
    "import pandas as pd"
   ]
  },
  {
   "cell_type": "code",
   "execution_count": 13,
   "id": "e77c0f9e",
   "metadata": {},
   "outputs": [],
   "source": [
    "corpus = [\"MENTION 1000/10 de verdad a ti que voy a decir petarda que te quiero más que a mí mismo  EMOJI\", \n",
    "          \"Al final han sido 3h  Bueno, mañana tengo fiesta así que.. No me quejo\"]"
   ]
  },
  {
   "cell_type": "code",
   "execution_count": 14,
   "id": "9d45b98d",
   "metadata": {},
   "outputs": [
    {
     "name": "stdout",
     "output_type": "stream",
     "text": [
      "['MENTION', '1000/10', 'de', 'verdad', 'a', 'ti', 'que', 'voy', 'a', 'decir', 'petarda', 'que', 'te', 'quiero', 'más', 'que', 'a', 'mí', 'mismo', 'EMOJI']\n",
      "['Al', 'final', 'han', 'sido', '3h', 'Bueno', ',', 'mañana', 'tengo', 'fiesta', 'así', 'que', '..', 'No', 'me', 'quejo']\n"
     ]
    }
   ],
   "source": [
    "tknzr = TweetTokenizer()\n",
    "bag = []\n",
    "for row in corpus:\n",
    "    tmp = tknzr.tokenize(row)\n",
    "    print(tmp)"
   ]
  },
  {
   "cell_type": "code",
   "execution_count": 20,
   "id": "0490e310",
   "metadata": {},
   "outputs": [],
   "source": [
    "bow = CountVectorizer(ngram_range=(1, 1))"
   ]
  },
  {
   "cell_type": "code",
   "execution_count": 21,
   "id": "1711ddda",
   "metadata": {},
   "outputs": [],
   "source": [
    "features = bow.fit_transform(corpus)"
   ]
  },
  {
   "cell_type": "code",
   "execution_count": 22,
   "id": "7c647efa",
   "metadata": {},
   "outputs": [
    {
     "data": {
      "text/plain": [
       "array([[1, 1, 0, 0, 0, 0, 1, 1, 1, 0, 0, 0, 0, 0, 1, 1, 1, 1, 0, 1, 3, 0,\n",
       "        1, 0, 1, 0, 1, 1, 1],\n",
       "       [0, 0, 1, 1, 1, 1, 0, 0, 0, 1, 1, 1, 1, 1, 0, 0, 0, 0, 1, 0, 1, 1,\n",
       "        0, 1, 0, 1, 0, 0, 0]], dtype=int64)"
      ]
     },
     "execution_count": 22,
     "metadata": {},
     "output_type": "execute_result"
    }
   ],
   "source": [
    "features.toarray()"
   ]
  },
  {
   "cell_type": "code",
   "execution_count": 23,
   "id": "b22f81ed",
   "metadata": {},
   "outputs": [],
   "source": [
    "df = pd.DataFrame(features.toarray(),\n",
    "                  index=['document '+str(i) for i in range(1, 1+len(corpus))],\n",
    "                  columns=bow.get_feature_names())"
   ]
  },
  {
   "cell_type": "code",
   "execution_count": 24,
   "id": "3fac4b5c",
   "metadata": {},
   "outputs": [
    {
     "data": {
      "text/html": [
       "<div>\n",
       "<style scoped>\n",
       "    .dataframe tbody tr th:only-of-type {\n",
       "        vertical-align: middle;\n",
       "    }\n",
       "\n",
       "    .dataframe tbody tr th {\n",
       "        vertical-align: top;\n",
       "    }\n",
       "\n",
       "    .dataframe thead th {\n",
       "        text-align: right;\n",
       "    }\n",
       "</style>\n",
       "<table border=\"1\" class=\"dataframe\">\n",
       "  <thead>\n",
       "    <tr style=\"text-align: right;\">\n",
       "      <th></th>\n",
       "      <th>10</th>\n",
       "      <th>1000</th>\n",
       "      <th>3h</th>\n",
       "      <th>al</th>\n",
       "      <th>así</th>\n",
       "      <th>bueno</th>\n",
       "      <th>de</th>\n",
       "      <th>decir</th>\n",
       "      <th>emoji</th>\n",
       "      <th>fiesta</th>\n",
       "      <th>...</th>\n",
       "      <th>petarda</th>\n",
       "      <th>que</th>\n",
       "      <th>quejo</th>\n",
       "      <th>quiero</th>\n",
       "      <th>sido</th>\n",
       "      <th>te</th>\n",
       "      <th>tengo</th>\n",
       "      <th>ti</th>\n",
       "      <th>verdad</th>\n",
       "      <th>voy</th>\n",
       "    </tr>\n",
       "  </thead>\n",
       "  <tbody>\n",
       "    <tr>\n",
       "      <th>document 1</th>\n",
       "      <td>1</td>\n",
       "      <td>1</td>\n",
       "      <td>0</td>\n",
       "      <td>0</td>\n",
       "      <td>0</td>\n",
       "      <td>0</td>\n",
       "      <td>1</td>\n",
       "      <td>1</td>\n",
       "      <td>1</td>\n",
       "      <td>0</td>\n",
       "      <td>...</td>\n",
       "      <td>1</td>\n",
       "      <td>3</td>\n",
       "      <td>0</td>\n",
       "      <td>1</td>\n",
       "      <td>0</td>\n",
       "      <td>1</td>\n",
       "      <td>0</td>\n",
       "      <td>1</td>\n",
       "      <td>1</td>\n",
       "      <td>1</td>\n",
       "    </tr>\n",
       "    <tr>\n",
       "      <th>document 2</th>\n",
       "      <td>0</td>\n",
       "      <td>0</td>\n",
       "      <td>1</td>\n",
       "      <td>1</td>\n",
       "      <td>1</td>\n",
       "      <td>1</td>\n",
       "      <td>0</td>\n",
       "      <td>0</td>\n",
       "      <td>0</td>\n",
       "      <td>1</td>\n",
       "      <td>...</td>\n",
       "      <td>0</td>\n",
       "      <td>1</td>\n",
       "      <td>1</td>\n",
       "      <td>0</td>\n",
       "      <td>1</td>\n",
       "      <td>0</td>\n",
       "      <td>1</td>\n",
       "      <td>0</td>\n",
       "      <td>0</td>\n",
       "      <td>0</td>\n",
       "    </tr>\n",
       "  </tbody>\n",
       "</table>\n",
       "<p>2 rows × 29 columns</p>\n",
       "</div>"
      ],
      "text/plain": [
       "            10  1000  3h  al  así  bueno  de  decir  emoji  fiesta  ...  \\\n",
       "document 1   1     1   0   0    0      0   1      1      1       0  ...   \n",
       "document 2   0     0   1   1    1      1   0      0      0       1  ...   \n",
       "\n",
       "            petarda  que  quejo  quiero  sido  te  tengo  ti  verdad  voy  \n",
       "document 1        1    3      0       1     0   1      0   1       1    1  \n",
       "document 2        0    1      1       0     1   0      1   0       0    0  \n",
       "\n",
       "[2 rows x 29 columns]"
      ]
     },
     "execution_count": 24,
     "metadata": {},
     "output_type": "execute_result"
    }
   ],
   "source": [
    "df"
   ]
  },
  {
   "cell_type": "code",
   "execution_count": null,
   "id": "2563708c",
   "metadata": {},
   "outputs": [],
   "source": []
  }
 ],
 "metadata": {
  "kernelspec": {
   "display_name": "Python 3",
   "language": "python",
   "name": "python3"
  },
  "language_info": {
   "codemirror_mode": {
    "name": "ipython",
    "version": 3
   },
   "file_extension": ".py",
   "mimetype": "text/x-python",
   "name": "python",
   "nbconvert_exporter": "python",
   "pygments_lexer": "ipython3",
   "version": "3.8.8"
  }
 },
 "nbformat": 4,
 "nbformat_minor": 5
}
