{
 "cells": [
  {
   "cell_type": "code",
   "execution_count": 1,
   "id": "df52b8f4",
   "metadata": {},
   "outputs": [],
   "source": [
    "import io\n",
    "import sys\n",
    "PATH = \"D:/OneDrive - Universidad Tecnológica de Bolívar/Apps\\MachineLearning-ISCO-A14A/\"\n",
    "DIR_DATA = PATH + \"data/\"\n",
    "sys.path.append(PATH) if PATH not in list(sys.path) else None\n",
    "import os\n",
    "import matplotlib.pyplot as plt\n",
    "import numpy as np\n",
    "import pandas as pd\n",
    "import seaborn as sns\n",
    "from collections import Counter\n",
    "from sklearn import preprocessing\n",
    "from sklearn.preprocessing import LabelEncoder \n",
    "from logic.text_processing import TextProcessing\n",
    "from sklearn.linear_model import LogisticRegression\n",
    "from imblearn.over_sampling import RandomOverSampler\n",
    "from sklearn.feature_extraction.text import CountVectorizer\n",
    "from sklearn.model_selection import train_test_split, cross_val_score, ShuffleSplit\n",
    "from sklearn.metrics import mean_squared_error, r2_score\n",
    "from sklearn.metrics import classification_report, confusion_matrix, recall_score, log_loss\n",
    "from sklearn.metrics import f1_score, accuracy_score, precision_score"
   ]
  },
  {
   "cell_type": "code",
   "execution_count": 2,
   "id": "191fa4e8",
   "metadata": {},
   "outputs": [],
   "source": [
    "tp = TextProcessing()\n",
    "le = LabelEncoder()"
   ]
  },
  {
   "cell_type": "code",
   "execution_count": 3,
   "id": "99b3ebff",
   "metadata": {},
   "outputs": [
    {
     "data": {
      "text/html": [
       "<div>\n",
       "<style scoped>\n",
       "    .dataframe tbody tr th:only-of-type {\n",
       "        vertical-align: middle;\n",
       "    }\n",
       "\n",
       "    .dataframe tbody tr th {\n",
       "        vertical-align: top;\n",
       "    }\n",
       "\n",
       "    .dataframe thead th {\n",
       "        text-align: right;\n",
       "    }\n",
       "</style>\n",
       "<table border=\"1\" class=\"dataframe\">\n",
       "  <thead>\n",
       "    <tr style=\"text-align: right;\">\n",
       "      <th></th>\n",
       "      <th>tweetid</th>\n",
       "      <th>user</th>\n",
       "      <th>content</th>\n",
       "      <th>date</th>\n",
       "      <th>lang</th>\n",
       "      <th>sentiment/polarity/value</th>\n",
       "    </tr>\n",
       "  </thead>\n",
       "  <tbody>\n",
       "    <tr>\n",
       "      <th>0</th>\n",
       "      <td>768213876278165504</td>\n",
       "      <td>OnceBukowski</td>\n",
       "      <td>-Me caes muy bien \\r\\n-Tienes que jugar más pa...</td>\n",
       "      <td>2016-08-23 22:30:35</td>\n",
       "      <td>es</td>\n",
       "      <td>NONE</td>\n",
       "    </tr>\n",
       "    <tr>\n",
       "      <th>1</th>\n",
       "      <td>768213567418036224</td>\n",
       "      <td>anahorxn</td>\n",
       "      <td>@myendlesshazza a. que puto mal escribo\\r\\n\\r\\...</td>\n",
       "      <td>2016-08-23 22:29:21</td>\n",
       "      <td>es</td>\n",
       "      <td>N</td>\n",
       "    </tr>\n",
       "    <tr>\n",
       "      <th>2</th>\n",
       "      <td>768212591105703936</td>\n",
       "      <td>martitarey13</td>\n",
       "      <td>@estherct209 jajajaja la tuya y la d mucha gen...</td>\n",
       "      <td>2016-08-23 22:25:29</td>\n",
       "      <td>es</td>\n",
       "      <td>N</td>\n",
       "    </tr>\n",
       "    <tr>\n",
       "      <th>3</th>\n",
       "      <td>768221670255493120</td>\n",
       "      <td>endlessmilerr</td>\n",
       "      <td>Quiero mogollón a @AlbaBenito99 pero sobretodo...</td>\n",
       "      <td>2016-08-23 23:01:33</td>\n",
       "      <td>es</td>\n",
       "      <td>P</td>\n",
       "    </tr>\n",
       "    <tr>\n",
       "      <th>4</th>\n",
       "      <td>768221021300264964</td>\n",
       "      <td>JunoWTFL</td>\n",
       "      <td>Vale he visto la tia bebiendose su regla y me ...</td>\n",
       "      <td>2016-08-23 22:58:58</td>\n",
       "      <td>es</td>\n",
       "      <td>N</td>\n",
       "    </tr>\n",
       "    <tr>\n",
       "      <th>...</th>\n",
       "      <td>...</td>\n",
       "      <td>...</td>\n",
       "      <td>...</td>\n",
       "      <td>...</td>\n",
       "      <td>...</td>\n",
       "      <td>...</td>\n",
       "    </tr>\n",
       "    <tr>\n",
       "      <th>1003</th>\n",
       "      <td>814846333601320960</td>\n",
       "      <td>jdomperfects</td>\n",
       "      <td>Para mí mi mejor año fue el 2015</td>\n",
       "      <td>2016-12-30 14:51:19</td>\n",
       "      <td>es</td>\n",
       "      <td>P</td>\n",
       "    </tr>\n",
       "    <tr>\n",
       "      <th>1004</th>\n",
       "      <td>813731371076243461</td>\n",
       "      <td>GonzaloRoman_91</td>\n",
       "      <td>Hoy va a ser un dia muy largo...</td>\n",
       "      <td>2016-12-27 13:00:51</td>\n",
       "      <td>es</td>\n",
       "      <td>N</td>\n",
       "    </tr>\n",
       "    <tr>\n",
       "      <th>1005</th>\n",
       "      <td>818399956792905728</td>\n",
       "      <td>vaneftdallas</td>\n",
       "      <td>11:11 que no me encuentre mal</td>\n",
       "      <td>2017-01-09 10:12:09</td>\n",
       "      <td>es</td>\n",
       "      <td>NEU</td>\n",
       "    </tr>\n",
       "    <tr>\n",
       "      <th>1006</th>\n",
       "      <td>815715581878009858</td>\n",
       "      <td>carmen_ligero</td>\n",
       "      <td>Es que son muy bonitas jo</td>\n",
       "      <td>2017-01-02 00:25:24</td>\n",
       "      <td>es</td>\n",
       "      <td>P</td>\n",
       "    </tr>\n",
       "    <tr>\n",
       "      <th>1007</th>\n",
       "      <td>816978031357161476</td>\n",
       "      <td>carmen_ligero</td>\n",
       "      <td>Que no jo que no soy tan irresponsable</td>\n",
       "      <td>2017-01-05 12:01:56</td>\n",
       "      <td>es</td>\n",
       "      <td>P</td>\n",
       "    </tr>\n",
       "  </tbody>\n",
       "</table>\n",
       "<p>1008 rows × 6 columns</p>\n",
       "</div>"
      ],
      "text/plain": [
       "                 tweetid             user  \\\n",
       "0     768213876278165504     OnceBukowski   \n",
       "1     768213567418036224         anahorxn   \n",
       "2     768212591105703936     martitarey13   \n",
       "3     768221670255493120    endlessmilerr   \n",
       "4     768221021300264964         JunoWTFL   \n",
       "...                  ...              ...   \n",
       "1003  814846333601320960     jdomperfects   \n",
       "1004  813731371076243461  GonzaloRoman_91   \n",
       "1005  818399956792905728     vaneftdallas   \n",
       "1006  815715581878009858    carmen_ligero   \n",
       "1007  816978031357161476    carmen_ligero   \n",
       "\n",
       "                                                content                 date  \\\n",
       "0     -Me caes muy bien \\r\\n-Tienes que jugar más pa...  2016-08-23 22:30:35   \n",
       "1     @myendlesshazza a. que puto mal escribo\\r\\n\\r\\...  2016-08-23 22:29:21   \n",
       "2     @estherct209 jajajaja la tuya y la d mucha gen...  2016-08-23 22:25:29   \n",
       "3     Quiero mogollón a @AlbaBenito99 pero sobretodo...  2016-08-23 23:01:33   \n",
       "4     Vale he visto la tia bebiendose su regla y me ...  2016-08-23 22:58:58   \n",
       "...                                                 ...                  ...   \n",
       "1003                   Para mí mi mejor año fue el 2015  2016-12-30 14:51:19   \n",
       "1004                   Hoy va a ser un dia muy largo...  2016-12-27 13:00:51   \n",
       "1005                      11:11 que no me encuentre mal  2017-01-09 10:12:09   \n",
       "1006                          Es que son muy bonitas jo  2017-01-02 00:25:24   \n",
       "1007             Que no jo que no soy tan irresponsable  2017-01-05 12:01:56   \n",
       "\n",
       "     lang sentiment/polarity/value  \n",
       "0      es                     NONE  \n",
       "1      es                        N  \n",
       "2      es                        N  \n",
       "3      es                        P  \n",
       "4      es                        N  \n",
       "...   ...                      ...  \n",
       "1003   es                        P  \n",
       "1004   es                        N  \n",
       "1005   es                      NEU  \n",
       "1006   es                        P  \n",
       "1007   es                        P  \n",
       "\n",
       "[1008 rows x 6 columns]"
      ]
     },
     "execution_count": 3,
     "metadata": {},
     "output_type": "execute_result"
    }
   ],
   "source": [
    "data_train = pd.read_csv(DIR_DATA + 'tass2018_es_train.csv', sep=',')\n",
    "data_train"
   ]
  },
  {
   "cell_type": "code",
   "execution_count": 4,
   "id": "cc97fe52",
   "metadata": {},
   "outputs": [
    {
     "data": {
      "text/html": [
       "<div>\n",
       "<style scoped>\n",
       "    .dataframe tbody tr th:only-of-type {\n",
       "        vertical-align: middle;\n",
       "    }\n",
       "\n",
       "    .dataframe tbody tr th {\n",
       "        vertical-align: top;\n",
       "    }\n",
       "\n",
       "    .dataframe thead th {\n",
       "        text-align: right;\n",
       "    }\n",
       "</style>\n",
       "<table border=\"1\" class=\"dataframe\">\n",
       "  <thead>\n",
       "    <tr style=\"text-align: right;\">\n",
       "      <th></th>\n",
       "      <th>tweetid</th>\n",
       "      <th>user</th>\n",
       "      <th>content</th>\n",
       "      <th>date</th>\n",
       "      <th>lang</th>\n",
       "      <th>sentiment/polarity/value</th>\n",
       "    </tr>\n",
       "  </thead>\n",
       "  <tbody>\n",
       "    <tr>\n",
       "      <th>0</th>\n",
       "      <td>770976639173951488</td>\n",
       "      <td>noseashetero</td>\n",
       "      <td>@noseashetero 1000/10 de verdad a ti que voy a...</td>\n",
       "      <td>2016-08-31 13:28:49</td>\n",
       "      <td>es</td>\n",
       "      <td>P</td>\n",
       "    </tr>\n",
       "    <tr>\n",
       "      <th>1</th>\n",
       "      <td>771092421866389508</td>\n",
       "      <td>Templelx</td>\n",
       "      <td>@piscolabisaereo @HistoriaNG @SPosteguillo las...</td>\n",
       "      <td>2016-08-31 21:08:54</td>\n",
       "      <td>es</td>\n",
       "      <td>P</td>\n",
       "    </tr>\n",
       "    <tr>\n",
       "      <th>2</th>\n",
       "      <td>771092111429083136</td>\n",
       "      <td>esskuu94</td>\n",
       "      <td>Al final han sido 3h  Bueno, mañana tengo fies...</td>\n",
       "      <td>2016-08-31 21:07:40</td>\n",
       "      <td>es</td>\n",
       "      <td>P</td>\n",
       "    </tr>\n",
       "    <tr>\n",
       "      <th>3</th>\n",
       "      <td>771092070572449796</td>\n",
       "      <td>__ariadna9</td>\n",
       "      <td>@Jorge_Ruiz14 yo no tengo tiempo para esas cos...</td>\n",
       "      <td>2016-08-31 21:07:30</td>\n",
       "      <td>es</td>\n",
       "      <td>N</td>\n",
       "    </tr>\n",
       "    <tr>\n",
       "      <th>4</th>\n",
       "      <td>771094192508600320</td>\n",
       "      <td>_cristtina15_</td>\n",
       "      <td>@_MissChaotic_ ves ese brillo? es un coso que ...</td>\n",
       "      <td>2016-08-31 21:15:56</td>\n",
       "      <td>es</td>\n",
       "      <td>N</td>\n",
       "    </tr>\n",
       "    <tr>\n",
       "      <th>...</th>\n",
       "      <td>...</td>\n",
       "      <td>...</td>\n",
       "      <td>...</td>\n",
       "      <td>...</td>\n",
       "      <td>...</td>\n",
       "      <td>...</td>\n",
       "    </tr>\n",
       "    <tr>\n",
       "      <th>501</th>\n",
       "      <td>757593585634213888</td>\n",
       "      <td>RubenRuCh</td>\n",
       "      <td>@Davorias Pero es que está muy rica</td>\n",
       "      <td>2016-07-25 15:09:20</td>\n",
       "      <td>es</td>\n",
       "      <td>P</td>\n",
       "    </tr>\n",
       "    <tr>\n",
       "      <th>502</th>\n",
       "      <td>757585725764362240</td>\n",
       "      <td>rayjaken</td>\n",
       "      <td>@narvalillo Eso es antiguo ya</td>\n",
       "      <td>2016-07-25 14:38:06</td>\n",
       "      <td>es</td>\n",
       "      <td>N</td>\n",
       "    </tr>\n",
       "    <tr>\n",
       "      <th>503</th>\n",
       "      <td>757097408304148480</td>\n",
       "      <td>Fuhyo__</td>\n",
       "      <td>Mi TL esta vacía a estas horas</td>\n",
       "      <td>2016-07-24 06:17:42</td>\n",
       "      <td>es</td>\n",
       "      <td>N</td>\n",
       "    </tr>\n",
       "    <tr>\n",
       "      <th>504</th>\n",
       "      <td>757971881077182464</td>\n",
       "      <td>xLytherinDovah</td>\n",
       "      <td>Ya tengo uno, pero ese es más cheto  @aweamasome.</td>\n",
       "      <td>2016-07-26 16:12:33</td>\n",
       "      <td>es</td>\n",
       "      <td>NEU</td>\n",
       "    </tr>\n",
       "    <tr>\n",
       "      <th>505</th>\n",
       "      <td>757949870124695552</td>\n",
       "      <td>ShiraPamer</td>\n",
       "      <td>Estoy sensible y lloro por todo y</td>\n",
       "      <td>2016-07-26 14:45:05</td>\n",
       "      <td>es</td>\n",
       "      <td>N</td>\n",
       "    </tr>\n",
       "  </tbody>\n",
       "</table>\n",
       "<p>506 rows × 6 columns</p>\n",
       "</div>"
      ],
      "text/plain": [
       "                tweetid            user  \\\n",
       "0    770976639173951488    noseashetero   \n",
       "1    771092421866389508        Templelx   \n",
       "2    771092111429083136        esskuu94   \n",
       "3    771092070572449796      __ariadna9   \n",
       "4    771094192508600320   _cristtina15_   \n",
       "..                  ...             ...   \n",
       "501  757593585634213888       RubenRuCh   \n",
       "502  757585725764362240        rayjaken   \n",
       "503  757097408304148480         Fuhyo__   \n",
       "504  757971881077182464  xLytherinDovah   \n",
       "505  757949870124695552      ShiraPamer   \n",
       "\n",
       "                                               content                 date  \\\n",
       "0    @noseashetero 1000/10 de verdad a ti que voy a...  2016-08-31 13:28:49   \n",
       "1    @piscolabisaereo @HistoriaNG @SPosteguillo las...  2016-08-31 21:08:54   \n",
       "2    Al final han sido 3h  Bueno, mañana tengo fies...  2016-08-31 21:07:40   \n",
       "3    @Jorge_Ruiz14 yo no tengo tiempo para esas cos...  2016-08-31 21:07:30   \n",
       "4    @_MissChaotic_ ves ese brillo? es un coso que ...  2016-08-31 21:15:56   \n",
       "..                                                 ...                  ...   \n",
       "501                @Davorias Pero es que está muy rica  2016-07-25 15:09:20   \n",
       "502                      @narvalillo Eso es antiguo ya  2016-07-25 14:38:06   \n",
       "503                     Mi TL esta vacía a estas horas  2016-07-24 06:17:42   \n",
       "504  Ya tengo uno, pero ese es más cheto  @aweamasome.  2016-07-26 16:12:33   \n",
       "505                  Estoy sensible y lloro por todo y  2016-07-26 14:45:05   \n",
       "\n",
       "    lang sentiment/polarity/value  \n",
       "0     es                        P  \n",
       "1     es                        P  \n",
       "2     es                        P  \n",
       "3     es                        N  \n",
       "4     es                        N  \n",
       "..   ...                      ...  \n",
       "501   es                        P  \n",
       "502   es                        N  \n",
       "503   es                        N  \n",
       "504   es                      NEU  \n",
       "505   es                        N  \n",
       "\n",
       "[506 rows x 6 columns]"
      ]
     },
     "execution_count": 4,
     "metadata": {},
     "output_type": "execute_result"
    }
   ],
   "source": [
    "data_test = pd.read_csv(DIR_DATA + 'tass2018_es_development.csv', sep=',')\n",
    "data_test"
   ]
  },
  {
   "cell_type": "code",
   "execution_count": 5,
   "id": "ace549f3",
   "metadata": {},
   "outputs": [
    {
     "data": {
      "text/plain": [
       "(1008, 1008)"
      ]
     },
     "execution_count": 5,
     "metadata": {},
     "output_type": "execute_result"
    }
   ],
   "source": [
    "x_train = [tp.transformer(row) for row in data_train['content'].tolist()]\n",
    "#y_train = le.fit_transform(data_train['sentiment/polarity/value'])\n",
    "y_train = data_train['sentiment/polarity/value']\n",
    "len(x_train), len(y_train)"
   ]
  },
  {
   "cell_type": "code",
   "execution_count": 6,
   "id": "9945c0c3",
   "metadata": {},
   "outputs": [
    {
     "data": {
      "text/plain": [
       "(506, 506)"
      ]
     },
     "execution_count": 6,
     "metadata": {},
     "output_type": "execute_result"
    }
   ],
   "source": [
    "x_test = [tp.transformer(row) for row in data_test['content'].tolist()]\n",
    "#y_test = le.fit_transform(data_test['sentiment/polarity/value'])\n",
    "y_test = data_test['sentiment/polarity/value']\n",
    "len(x_test), len(y_test)"
   ]
  },
  {
   "cell_type": "code",
   "execution_count": 7,
   "id": "3b9220c6",
   "metadata": {},
   "outputs": [],
   "source": [
    "bow = CountVectorizer(analyzer='word', ngram_range=(2, 3))"
   ]
  },
  {
   "cell_type": "code",
   "execution_count": 8,
   "id": "a1f397be",
   "metadata": {},
   "outputs": [],
   "source": [
    "x_train = bow.fit_transform(x_train)"
   ]
  },
  {
   "cell_type": "code",
   "execution_count": 9,
   "id": "4d8a423e",
   "metadata": {},
   "outputs": [
    {
     "data": {
      "text/plain": [
       "array([[0, 0, 0, ..., 0, 0, 0],\n",
       "       [0, 0, 0, ..., 0, 0, 0],\n",
       "       [0, 0, 0, ..., 0, 0, 0],\n",
       "       ...,\n",
       "       [0, 0, 0, ..., 0, 0, 0],\n",
       "       [0, 0, 0, ..., 0, 0, 0],\n",
       "       [0, 0, 0, ..., 0, 0, 0]], dtype=int64)"
      ]
     },
     "execution_count": 9,
     "metadata": {},
     "output_type": "execute_result"
    }
   ],
   "source": [
    "x_train.toarray()"
   ]
  },
  {
   "cell_type": "code",
   "execution_count": 10,
   "id": "5dd8deb8",
   "metadata": {},
   "outputs": [],
   "source": [
    "x_test = bow.transform(x_test)"
   ]
  },
  {
   "cell_type": "code",
   "execution_count": 11,
   "id": "87edb6ba",
   "metadata": {},
   "outputs": [
    {
     "data": {
      "text/plain": [
       "array([[0, 0, 0, ..., 0, 0, 0],\n",
       "       [0, 0, 0, ..., 0, 0, 0],\n",
       "       [0, 0, 0, ..., 0, 0, 0],\n",
       "       ...,\n",
       "       [0, 0, 0, ..., 0, 0, 0],\n",
       "       [0, 0, 0, ..., 0, 0, 0],\n",
       "       [0, 0, 0, ..., 0, 0, 0]], dtype=int64)"
      ]
     },
     "execution_count": 11,
     "metadata": {},
     "output_type": "execute_result"
    }
   ],
   "source": [
    "x_test.toarray()"
   ]
  },
  {
   "cell_type": "code",
   "execution_count": 12,
   "id": "6a0b95af",
   "metadata": {},
   "outputs": [
    {
     "name": "stdout",
     "output_type": "stream",
     "text": [
      "**Sample train: [('N', 418), ('NEU', 133), ('NONE', 139), ('P', 318)]\n"
     ]
    }
   ],
   "source": [
    "print('**Sample train:', sorted(Counter(y_train).items()))"
   ]
  },
  {
   "cell_type": "code",
   "execution_count": 13,
   "id": "ac586c1c",
   "metadata": {},
   "outputs": [
    {
     "name": "stdout",
     "output_type": "stream",
     "text": [
      "**Sample test: [('N', 219), ('NEU', 69), ('NONE', 62), ('P', 156)]\n"
     ]
    }
   ],
   "source": [
    "print('**Sample test:', sorted(Counter(y_test).items()))"
   ]
  },
  {
   "cell_type": "code",
   "execution_count": 30,
   "id": "0eb45855",
   "metadata": {},
   "outputs": [],
   "source": [
    "k_fold = ShuffleSplit(n_splits=10, test_size=0.25, random_state=42)"
   ]
  },
  {
   "cell_type": "code",
   "execution_count": 31,
   "id": "7ba65234",
   "metadata": {},
   "outputs": [],
   "source": [
    "ros_train = RandomOverSampler(random_state=1000)\n",
    "x_train, y_train = ros_train.fit_resample(x_train, y_train)"
   ]
  },
  {
   "cell_type": "code",
   "execution_count": 32,
   "id": "66c8010f",
   "metadata": {},
   "outputs": [
    {
     "name": "stdout",
     "output_type": "stream",
     "text": [
      "**OverSample train: [('N', 418), ('NEU', 418), ('NONE', 418), ('P', 418)]\n"
     ]
    }
   ],
   "source": [
    "print('**OverSample train:', sorted(Counter(y_train).items()))"
   ]
  },
  {
   "cell_type": "code",
   "execution_count": 33,
   "id": "19b6897c",
   "metadata": {},
   "outputs": [],
   "source": [
    "ros_test = RandomOverSampler(random_state=1000)\n",
    "x_test, y_test = ros_test.fit_resample(x_test, y_test)"
   ]
  },
  {
   "cell_type": "code",
   "execution_count": 34,
   "id": "69836dd9",
   "metadata": {},
   "outputs": [
    {
     "name": "stdout",
     "output_type": "stream",
     "text": [
      "**OverSample test: [('N', 219), ('NEU', 219), ('NONE', 219), ('P', 219)]\n"
     ]
    }
   ],
   "source": [
    "print('**OverSample test:', sorted(Counter(y_test).items()))"
   ]
  },
  {
   "cell_type": "code",
   "execution_count": 35,
   "id": "a2364f7a",
   "metadata": {},
   "outputs": [],
   "source": [
    "softmax = LogisticRegression(multi_class=\"multinomial\", solver=\"lbfgs\", C=10)"
   ]
  },
  {
   "cell_type": "code",
   "execution_count": 36,
   "id": "246b4d1e",
   "metadata": {},
   "outputs": [],
   "source": [
    "accuracies_scores = []\n",
    "recalls_scores = []\n",
    "precisions_scores = []\n",
    "f1_scores = []"
   ]
  },
  {
   "cell_type": "code",
   "execution_count": null,
   "id": "a59dfd2e",
   "metadata": {},
   "outputs": [],
   "source": [
    "for train_index, test_index in k_fold.split(x_train, y_train):\n",
    "    data_train = x_train[train_index]\n",
    "    target_train = y_train[train_index]\n",
    "    \n",
    "    data_test = x_train[test_index]\n",
    "    target_test = y_train[test_index]\n",
    "\n",
    "    softmax.fit(data_train, target_train)\n",
    "    predict = softmax.predict(data_test)\n",
    "    # Accuracy\n",
    "    accuracy = accuracy_score(target_test, predict)\n",
    "    accuracies_scores.append(accuracy)\n",
    "    # Recall\n",
    "    recall = recall_score(target_test, predict, average='macro')\n",
    "    recalls_scores.append(recall)\n",
    "    # Precision\n",
    "    precision = precision_score(target_test, predict, average='weighted')\n",
    "    precisions_scores.append(precision)\n",
    "    # F1\n",
    "    f1 = f1_score(target_test, predict, average='weighted')\n",
    "    f1_scores.append(f1)"
   ]
  },
  {
   "cell_type": "code",
   "execution_count": null,
   "id": "ddae023f",
   "metadata": {},
   "outputs": [],
   "source": [
    "average_recall = round(np.mean(recalls_scores) * 100, 2)\n",
    "average_precision = round(np.mean(precisions_scores) * 100, 2)\n",
    "average_f1 = round(np.mean(f1_scores) * 100, 2)\n",
    "average_accuracy = round(np.mean(accuracies_scores) * 100, 2)"
   ]
  },
  {
   "cell_type": "code",
   "execution_count": null,
   "id": "d77705b5",
   "metadata": {},
   "outputs": [],
   "source": [
    "y_predict = []\n",
    "for features in x_test:\n",
    "    features = features.reshape(1, -1)\n",
    "    value = softmax.predict(features)[0]\n",
    "    y_predict.append(value)\n",
    "\n",
    "classification = classification_report(y_test, y_predict)\n",
    "confusion = confusion_matrix(y_predict, y_test)"
   ]
  },
  {
   "cell_type": "code",
   "execution_count": null,
   "id": "3d32b052",
   "metadata": {},
   "outputs": [],
   "source": [
    "output_result = {'F1-score': average_f1, 'Accuracy': average_accuracy, 'Recall': average_recall, \n",
    "                 'Precision': average_precision, 'Classification Report\\n': classification, \n",
    "                 'Confusion Matrix\\n': confusion}"
   ]
  },
  {
   "cell_type": "code",
   "execution_count": null,
   "id": "892ae3dd",
   "metadata": {},
   "outputs": [],
   "source": [
    "for item, val in output_result.items():\n",
    "    print('{0} {1}'.format(item, val))"
   ]
  },
  {
   "cell_type": "code",
   "execution_count": null,
   "id": "d37dd635",
   "metadata": {},
   "outputs": [],
   "source": []
  }
 ],
 "metadata": {
  "kernelspec": {
   "display_name": "Python 3",
   "language": "python",
   "name": "python3"
  },
  "language_info": {
   "codemirror_mode": {
    "name": "ipython",
    "version": 3
   },
   "file_extension": ".py",
   "mimetype": "text/x-python",
   "name": "python",
   "nbconvert_exporter": "python",
   "pygments_lexer": "ipython3",
   "version": "3.8.8"
  }
 },
 "nbformat": 4,
 "nbformat_minor": 5
}
