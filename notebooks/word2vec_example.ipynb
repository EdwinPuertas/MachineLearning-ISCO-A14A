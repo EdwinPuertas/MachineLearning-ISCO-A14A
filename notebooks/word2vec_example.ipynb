{
 "cells": [
  {
   "cell_type": "code",
   "execution_count": 1,
   "id": "e65da53a",
   "metadata": {},
   "outputs": [],
   "source": [
    "import io\n",
    "import sys\n",
    "PATH = \"D:/OneDrive - Universidad Tecnológica de Bolívar/Apps\\MachineLearning-ISCO-A14A/\"\n",
    "DIR_DATA = PATH + \"data/\"\n",
    "sys.path.append(PATH) if PATH not in list(sys.path) else None\n",
    "import os\n",
    "from gensim.models import Word2Vec\n",
    "from nltk.corpus import cess_esp\n",
    "from tqdm import tqdm\n",
    "import operator\n",
    "import numpy as np\n",
    "import pandas as pd\n",
    "import multiprocessing\n",
    "from logic.text_processing import TextProcessing"
   ]
  },
  {
   "cell_type": "code",
   "execution_count": 2,
   "id": "b2f78c3a",
   "metadata": {},
   "outputs": [],
   "source": [
    "tp = TextProcessing()\n",
    "cores = multiprocessing.cpu_count()"
   ]
  },
  {
   "cell_type": "code",
   "execution_count": 3,
   "id": "7271177b",
   "metadata": {},
   "outputs": [
    {
     "name": "stdout",
     "output_type": "stream",
     "text": [
      "Loading.... CESS corpus\n"
     ]
    },
    {
     "name": "stderr",
     "output_type": "stream",
     "text": [
      "100%|██████████| 6030/6030 [00:00<00:00, 39538.90it/s]\n"
     ]
    }
   ],
   "source": [
    "corpus = []\n",
    "print('Loading.... {0} corpus'.format('CESS'))\n",
    "sentences_list = cess_esp.sents()\n",
    "for sent in tqdm(list(sentences_list)):\n",
    "    list_text = [str(token).lower() for token in list(sent)]\n",
    "    text = ' '.join(list_text)\n",
    "    corpus.append(text)"
   ]
  },
  {
   "cell_type": "code",
   "execution_count": 4,
   "id": "accb3c7a",
   "metadata": {},
   "outputs": [
    {
     "name": "stderr",
     "output_type": "stream",
     "text": [
      "100%|██████████| 6030/6030 [2:03:11<00:00,  1.23s/it]  \n"
     ]
    }
   ],
   "source": [
    "sentences_vector = []\n",
    "for text in tqdm(corpus):\n",
    "    text = text.replace('_', ' ')\n",
    "    text = tp.transformer(text, stopwords=True)\n",
    "    if text is not None:\n",
    "        doc = tp.nlp(text)\n",
    "        if doc is not None:\n",
    "            vector = [i['text'] for i in doc]\n",
    "            sentences_vector.append(vector)"
   ]
  },
  {
   "cell_type": "code",
   "execution_count": 6,
   "id": "862333c5",
   "metadata": {},
   "outputs": [],
   "source": [
    "model = Word2Vec(sentences_vector, cbow_mean=1, workers=cores-1, min_count=50, window=5, sample=6e-5, negative=20, alpha=0.03, min_alpha=0.0007)"
   ]
  },
  {
   "cell_type": "code",
   "execution_count": 9,
   "id": "3c1108ae",
   "metadata": {},
   "outputs": [
    {
     "data": {
      "text/plain": [
       "(91, 100)"
      ]
     },
     "execution_count": 9,
     "metadata": {},
     "output_type": "execute_result"
    }
   ],
   "source": [
    "model.wv.vectors.shape"
   ]
  },
  {
   "cell_type": "code",
   "execution_count": 17,
   "id": "b87368b4",
   "metadata": {},
   "outputs": [
    {
     "data": {
      "text/plain": [
       "91"
      ]
     },
     "execution_count": 17,
     "metadata": {},
     "output_type": "execute_result"
    }
   ],
   "source": [
    "vocab_len = len(model.wv)\n",
    "vocab_len"
   ]
  },
  {
   "cell_type": "code",
   "execution_count": null,
   "id": "4b679b15",
   "metadata": {},
   "outputs": [],
   "source": []
  }
 ],
 "metadata": {
  "kernelspec": {
   "display_name": "Python 3 (ipykernel)",
   "language": "python",
   "name": "python3"
  },
  "language_info": {
   "codemirror_mode": {
    "name": "ipython",
    "version": 3
   },
   "file_extension": ".py",
   "mimetype": "text/x-python",
   "name": "python",
   "nbconvert_exporter": "python",
   "pygments_lexer": "ipython3",
   "version": "3.8.8"
  }
 },
 "nbformat": 4,
 "nbformat_minor": 5
}
